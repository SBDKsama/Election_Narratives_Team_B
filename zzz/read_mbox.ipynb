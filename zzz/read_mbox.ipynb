{
 "cells": [
  {
   "cell_type": "code",
   "execution_count": 1,
   "metadata": {},
   "outputs": [
    {
     "data": {
      "text/plain": [
       "'From 1789661171270937312@xxx Thu Feb 01 02:18:14 +0000 2024\\nX-GM-THRID: 1789661171270937312\\nX-Gmail-Labels: Spam,Category Promotions,Unread\\nDelivered-To: jengabuilding90@gmail.com\\nReceived: by 2002:a05:7300:d027:b0:106:2596:8029 with SMTP id ni39csp150111dyb;\\n        Wed, 31 Jan 2024 18:18:14 -0800 (PST)\\nX-Received: by 2002:a81:bb52:0:b0:5fb:c044:f087 with SMTP id a18-20020a81bb52000000b005fbc044f087mr3234127ywl.35.1706753894003;\\n        Wed, 31 Jan 2024 18:18:14 -0800 (PST)\\nARC-Seal: i=2; a=rsa-sha256; t=1706753893; cv=pass;\\n        d=google.com; s=arc-20160816;\\n        b=rYXtUHzzPuhbR+c1ilMXjQs+Dzc40gDBgVQS+V9o8HTS7hBOTdJzGwkkBOE+pUbcz8\\n         YyVlAwzN93X/GtBNbIjgjMHhvnWHpwLkBTnH14a58PYfHplSi68/NAg2CUck9t+1jPgH\\n         ZVGz9TB88im8rAXhGCKml/Bxo/evkJAFRhMh2BCMjPnJ9RQlKsw3WmLkhrd3jCL3FYo1\\n         kIPPE0MCRMZ/v4uaPnWyqNOOv5HMXFHOTCu1UDhTDfPvQ+zMVhYwJvuB/wvdqjqQzURJ\\n         4w7TaBCKvuYxRzzZAs2BMcvxLfcafFYB+bzKKr8Ysf8dFDILVGE9+QonEvxn2Li+6Una\\n         MZ8g==\\nARC-Message-Signature: i=2; a=rsa-sha256; c=relax'"
      ]
     },
     "execution_count": 1,
     "metadata": {},
     "output_type": "execute_result"
    }
   ],
   "source": [
    "# Let's start by opening and reading a small part of the file to understand its structure\n",
    "file_path = 'All mail Including Spam and Trash.mbox'\n",
    "\n",
    "# Read the first part of the file to understand its structure\n",
    "with open(file_path, 'r', encoding='utf-8') as file:\n",
    "    content_preview = file.read(1024)  # Read the first 1024 characters for a preview\n",
    "\n",
    "content_preview"
   ]
  },
  {
   "cell_type": "code",
   "execution_count": 3,
   "metadata": {},
   "outputs": [
    {
     "data": {
      "text/plain": [
       "('emails_extracted.json',\n",
       " '[\\n    {\\n        \"from\": \"\\\\\"Jacky\\\\\" <info@action.rosenfornevada.com>\",\\n        \"delivered_to\": \"jengabuilding90@gmail.com\",\\n        \"subject\": \"just got word\",\\n        \"date\": \"Thu, 01 Feb 2024 02:18:09 +0000\",\\n        \"labels\": \"Spam,Category Promotions,Unread\"\\n    }\\n]')"
      ]
     },
     "execution_count": 3,
     "metadata": {},
     "output_type": "execute_result"
    }
   ],
   "source": [
    "import mailbox\n",
    "import json\n",
    "\n",
    "# Function to extract key details from an email message\n",
    "def extract_email_details(msg):\n",
    "    details = {\n",
    "        \"from\": msg.get('From', ''),\n",
    "        \"delivered_to\": msg.get('Delivered-To', ''),\n",
    "        \"subject\": msg.get('Subject', ''),\n",
    "        \"date\": msg.get('Date', ''),\n",
    "        \"labels\": msg.get('X-Gmail-Labels', '')\n",
    "    }\n",
    "    return details\n",
    "\n",
    "# Load the mbox file\n",
    "mbox = mailbox.mbox(file_path)\n",
    "\n",
    "# Extract details from each email in the mbox file\n",
    "emails = [extract_email_details(msg) for msg in mbox]\n",
    "\n",
    "# Convert the list of email details to JSON format\n",
    "emails_json = json.dumps(emails, indent=4)\n",
    "\n",
    "# Due to potential size, preview the first email in JSON format instead of printing everything\n",
    "emails_json_preview = json.dumps(emails[:1], indent=4)\n",
    "\n",
    "# Save the full JSON data to a file\n",
    "json_file_path = 'emails_extracted.json'\n",
    "with open(json_file_path, 'w', encoding='utf-8') as json_file:\n",
    "    json_file.write(emails_json)\n",
    "\n",
    "json_file_path, emails_json_preview\n"
   ]
  },
  {
   "cell_type": "code",
   "execution_count": 4,
   "metadata": {},
   "outputs": [
    {
     "data": {
      "text/plain": [
       "('limited_emails_extracted.json',\n",
       " '[\\n    {\\n        \"from\": \"\\\\\"Jacky\\\\\" <info@action.rosenfornevada.com>\",\\n        \"delivered_to\": \"jengabuilding90@gmail.com\",\\n        \"subject\": \"just got word\",\\n        \"date\": \"Thu, 01 Feb 2024 02:18:09 +0000\",\\n        \"labels\": \"Spam,Category Promotions,Unread\",\\n        \"content_plain\": \"It\\'s been a long day, friend, so I\\'ll jump right in: If Democrats lose in Nevada, we\\\\u00a0will\\\\u00a0lose our Senate majority. Full stop.\\\\r\\\\n\\\\r\\\\nThat\\'s why hitting our fundraising goals \\\\u2013 and having the resources to defeat the GOP \\\\u2013 is so critical. But unfortunately, I just got word from my team that we\\'re still $5,274 short of our end-of-month goal with just 3 hours left until the midnight deadline.\\\\u00a0\\\\r\\\\n\\\\r\\\\nSo please, this is the last call: Will you chip in $5 \\\\u2013 even $25 \\\\u2013 right now to keep Nevada and the Senate blue?\\\\r\\\\n\\\\r\\\\nhttps://secure.actblue.com/contribute/page/rosenfornevada_email_january_2024?refcode=jtk3392-fr-text&amounts=5,25,50,100,250\\\\r\\\\n\\\\r\\\\nThank you,\\\\r\\\\n\\\\r\\\\nJacky\\\\r\\\\n\\\\r\\\\n\\\\r\\\\n\\\\r\\\\n--------\\\\r\\\\n\\\\r\\\\nThis email was sent to Jengabuiling90@gmail.com.\\\\r\\\\n\\\\r\\\\nTo unsubscribe from this email list, please click here: https://act.rosenfornevada.com/p/lu4OBSNc3UKuSuNlvLb3Zg2?unsubscribedata=aY8wPzFtQiGX%2FddI4ofDRERu7c4uxY%2FsSaJz2eo93JtYnwSPOJij1vE8SSNO5TUxSDEVsrlS0oROoPAH2mnGNWBifIA2IxXCI6QOZ4o5yVlVlx3f75J%2BEo0dEO6yDL0Ow70wTa%2Bwg1dmYvJOFHV31bp6B0e1ywmcFMUbNFzoYhESsETurvTOo6cyrVvg1GjXdPLBfgcpvLUkwHnFDzTT9dNhjwhpxvirbQ9WRpnqn7XhPWlMmhFL2cR%2Fai%2BU%2FAfCfVTPnVBQ52l61VX7y3OZINb2BnxZEalpH1c7tl29QXZztL0PFSTXR9BeFRDTq3tRc0WBE%2FqAaLLibaftZ5MFWolSvCJQzpVjobO22MEBt80%2FHkI9u%2BX2GqWkkVd%2FuggPTc2vIBc%2F1cG3yMXS1h0hcbqjwrXTb40I0AK7Mx%2BQze8Dpzadsn5OSn72f1n%2FdHg4\\\\r\\\\n\\\\r\\\\nContributions to Rosen for Nevada are not tax deductible.\\\\r\\\\n\\\\r\\\\nPaid for by Rosen for Nevada\\\\r\\\\n\\\\r\\\\nRosen for Nevada\\\\r\\\\nP.O. Box 46110\\\\r\\\\nLAS VEGAS, NV 89114\\\\r\\\\nUnited States\",\\n        \"content_html\": \"<html>\\\\r\\\\n<head>\\\\r\\\\n\\\\t<title></title>\\\\r\\\\n</head>\\\\r\\\\n<body>\\\\r\\\\n<style type=\\\\\"text/css\\\\\">/* standard resets */\\\\r\\\\n  \\\\r\\\\n  div, p, a, li, td {\\\\r\\\\n    -webkit-text-size-adjust: none;\\\\r\\\\n    -ms-text-size-adjust: none;\\\\r\\\\n  }\\\\r\\\\n  body {\\\\r\\\\n    margin: 0;\\\\r\\\\n    padding: 0;\\\\r\\\\n  }\\\\r\\\\n  table td {\\\\r\\\\n    border-collapse: collapse;\\\\r\\\\n  }\\\\r\\\\n  table th {\\\\r\\\\n    margin: 0 !important;\\\\r\\\\n    padding: 0 !important;\\\\r\\\\n    vertical-align: top;\\\\r\\\\n    font-weight: normal;\\\\r\\\\n  }\\\\r\\\\n  div[style*=\\\\\"margin: 16px 0\\\\\"] {\\\\r\\\\n    margin: 0 !important;\\\\r\\\\n  }\\\\r\\\\n  .ExternalClass {\\\\r\\\\n    width: 100%;\\\\r\\\\n  }\\\\r\\\\n  .ExternalClass * {\\\\r\\\\n    line-height: 110%\\\\r\\\\n  }\\\\r\\\\n  img {\\\\r\\\\n    -ms-interpolation-mode: bicubic;\\\\r\\\\n  }\\\\r\\\\n  .appleLinksgrey a {\\\\r\\\\n    color: #9ca299 !important;\\\\r\\\\n    text-decoration: none;\\\\r\\\\n  }\\\\r\\\\n  \\\\r\\\\n  /* control text changed to links by phones */\\\\r\\\\n  \\\\r\\\\n  @media only screen {\\\\r\\\\n  body {\\\\r\\\\n    width: 100% !important;\\\\r\\\\n    min-width: 100% !important;\\\\r\\\\n  }\\\\r\\\\n  a[x-apple-data-detectors] {\\\\r\\\\n    color: inherit !important;\\\\r\\\\n    text-decoration: none !important;\\\\r\\\\n    font-size: inherit !important;\\\\r\\\\n    font-family: inherit !important;\\\\r\\\\n    font-weight: inherit !important;\\\\r\\\\n    line-height: inherit !important;\\\\r\\\\n  }\\\\r\\\\n  }\\\\r\\\\n  \\\\r\\\\n  /* Yahoo and apple mail reset on desktop */\\\\r\\\\n  \\\\r\\\\n  @media screen and (min-width: 600px) {\\\\r\\\\n  .wrapto680px {\\\\r\\\\n    width: 670px !important;\\\\r\\\\n    height: auto !important;\\\\r\\\\n  }\\\\r\\\\n  }\\\\r\\\\n  \\\\r\\\\n  @media screen and (max-device-width: 640px), screen and (max-width: 640px) {\\\\r\\\\n  /* responsive rules */\\\\r\\\\n  .wrapto100pc {\\\\r\\\\n    width: 100% !important;\\\\r\\\\n    height: auto !important;\\\\r\\\\n  }\\\\r\\\\n  .wrapto100pc-allowheight {\\\\r\\\\n    width: 100% !important;\\\\r\\\\n  }\\\\r\\\\n  *[class=wrapto100pc-pt20] {\\\\r\\\\n    width: 100% !important;\\\\r\\\\n    height: auto !important;\\\\r\\\\n    margin-top: 20px !important;\\\\r\\\\n  }\\\\r\\\\n  *[class=colsplit] {\\\\r\\\\n    width: 100% !important;\\\\r\\\\n    height: auto !important;\\\\r\\\\n    display: block !important;\\\\r\\\\n    float: left !important;\\\\r\\\\n  }\\\\r\\\\n  *[class=hero-image] {\\\\r\\\\n    width: 100% !important;\\\\r\\\\n    height: auto !important;\\\\r\\\\n    padding-top: 20px !important;\\\\r\\\\n    padding-bottom: 20px !important;\\\\r\\\\n  }\\\\r\\\\n  *[class=wrapto100pc-max480] {\\\\r\\\\n    width: 100% !important;\\\\r\\\\n    height: auto !important;\\\\r\\\\n    max-width: 480px !important;\\\\r\\\\n  }\\\\r\\\\n  *[class=wrapto100pc-max320] {\\\\r\\\\n    width: 100% !important;\\\\r\\\\n    height: auto !important;\\\\r\\\\n    max-width: 320px !important;\\\\r\\\\n  }\\\\r\\\\n  *[class=height-auto] {\\\\r\\\\n    height: auto !important;\\\\r\\\\n  }\\\\r\\\\n  *[class=nomob] {\\\\r\\\\n    display: none !important;\\\\r\\\\n    width: 0px !important;\\\\r\\\\n    height: 0px !important;\\\\r\\\\n  }\\\\r\\\\n  th[class=footer-button] {\\\\r\\\\n    float: left !important;\\\\r\\\\n    display: block !important;\\\\r\\\\n    width: 100% !important;\\\\r\\\\n    padding-top: 10px !important;\\\\r\\\\n    padding-bottom: 10px !important;\\\\r\\\\n  }\\\\r\\\\n  /* fonts */\\\\r\\\\n  *[class=center-text] {\\\\r\\\\n    text-align: center !important;\\\\r\\\\n  }\\\\r\\\\n  *[class=fontsize15] {\\\\r\\\\n    font-size: 15px !important;\\\\r\\\\n    line-height: 20px !important;\\\\r\\\\n  }\\\\r\\\\n  /* reverse stacking */\\\\r\\\\n  *[class=table] {\\\\r\\\\n    display: table !important;\\\\r\\\\n    width: 100% !important;\\\\r\\\\n  }\\\\r\\\\n  *[class=foot] {\\\\r\\\\n    display: table-footer-group!important;\\\\r\\\\n    width: 100% !important;\\\\r\\\\n  }\\\\r\\\\n  *[class=head] {\\\\r\\\\n    display: table-header-group!important;\\\\r\\\\n    width: 100% !important;\\\\r\\\\n  }\\\\r\\\\n  }\\\\r\\\\n</style>\\\\r\\\\n<table border=\\\\\"0\\\\\" cellpadding=\\\\\"0\\\\\" cellspacing=\\\\\"0\\\\\" role=\\\\\"presentation\\\\\" width=\\\\\"100%\\\\\">\\\\r\\\\n\\\\t<tbody>\\\\r\\\\n\\\\t\\\\t<tr>\\\\r\\\\n\\\\t\\\\t\\\\t<td align=\\\\\"center\\\\\"><!--[if (gte mso 9)|(IE)]><table border=\\\\\"0\\\\\" cellspacing=\\\\\"0\\\\\" cellpadding=\\\\\"0\\\\\" width=\\\\\"680\\\\\" role=\\\\\"presentation\\\\\"><tr><td align=\\\\\"center\\\\\"><![endif]-->\\\\r\\\\n\\\\t\\\\t\\\\t<table bgcolor=\\\\\"#ffffff\\\\\" border=\\\\\"0\\\\\" cellpadding=\\\\\"0\\\\\" cellspacing=\\\\\"0\\\\\" class=\\\\\"wrapto680px-off\\\\\" role=\\\\\"presentation\\\\\" style=\\\\\"max-width:680px;\\\\\" width=\\\\\"100%\\\\\">\\\\r\\\\n\\\\t\\\\t\\\\t\\\\t<tbody>\\\\r\\\\n\\\\t\\\\t\\\\t\\\\t\\\\t<tr>\\\\r\\\\n\\\\t\\\\t\\\\t\\\\t\\\\t\\\\t<td width=\\\\\"20\\\\\"><img alt=\\\\\"\\\\\" border=\\\\\"0\\\\\" height=\\\\\"1\\\\\" src=\\\\\"https://als-totem.s3.amazonaws.com/core/spacer.gif\\\\\" style=\\\\\"display: block;\\\\\" width=\\\\\"20\\\\\"></td>\\\\r\\\\n\\\\t\\\\t\\\\t\\\\t\\\\t\\\\t<td align=\\\\\"center\\\\\" valign=\\\\\"top\\\\\">\\\\r\\\\n\\\\t\\\\t\\\\t\\\\t\\\\t\\\\t<table cellpadding=\\\\\"0\\\\\" cellspacing=\\\\\"0\\\\\" id=\\\\\"email-contents\\\\\" role=\\\\\"presentation\\\\\" style=\\\\\"max-width: 100%; font-size: 21px; text-align: center; font-family: Arial,sans-serif; line-height: 1.2; \\\\\" width=\\\\\"100%\\\\\">\\\\r\\\\n\\\\t\\\\t\\\\t\\\\t\\\\t\\\\t\\\\t<tbody>\\\\r\\\\n\\\\t\\\\t\\\\t\\\\t\\\\t\\\\t\\\\t\\\\t<tr>\\\\r\\\\n\\\\t\\\\t\\\\t\\\\t\\\\t\\\\t\\\\t\\\\t\\\\t<td>&nbsp;</td>\\\\r\\\\n\\\\t\\\\t\\\\t\\\\t\\\\t\\\\t\\\\t\\\\t</tr>\\\\r\\\\n\\\\t\\\\t\\\\t\\\\t\\\\t\\\\t\\\\t\\\\t<tr>\\\\r\\\\n\\\\t\\\\t\\\\t\\\\t\\\\t\\\\t\\\\t\\\\t\\\\t<td bgcolor=\\\\\"#ffffff\\\\\" style=\\\\\"padding-top:10px;padding-right:5px;padding-bottom:10px;padding-left:5px;\\\\\">\\\\r\\\\n\\\\t\\\\t\\\\t\\\\t\\\\t\\\\t\\\\t\\\\t\\\\t<p style=\\\\\"margin: 0;font-size:18px;text-align:left;\\\\\">It\\'s been a long day, friend, so I\\'ll jump right in: <b>If Democrats lose in Nevada, we&nbsp;will&nbsp;lose our Senate majority. Full stop.</b></p>\\\\r\\\\n\\\\t\\\\t\\\\t\\\\t\\\\t\\\\t\\\\t\\\\t\\\\t</td>\\\\r\\\\n\\\\t\\\\t\\\\t\\\\t\\\\t\\\\t\\\\t\\\\t</tr>\\\\r\\\\n\\\\t\\\\t\\\\t\\\\t\\\\t\\\\t\\\\t\\\\t<tr>\\\\r\\\\n\\\\t\\\\t\\\\t\\\\t\\\\t\\\\t\\\\t\\\\t\\\\t<td bgcolor=\\\\\"#ffffff\\\\\" style=\\\\\"padding-top:10px;padding-right:5px;padding-bottom:10px;padding-left:5px;\\\\\">\\\\r\\\\n\\\\t\\\\t\\\\t\\\\t\\\\t\\\\t\\\\t\\\\t\\\\t<p style=\\\\\"margin: 0;text-align:left;font-size:18px;text-align:left;\\\\\"><span id=\\\\\"docs-internal-guid-2946db2c-7fff-3088-e603-ef7eb60180ec\\\\\"><span style=\\\\\"background-color: transparent;\\\\\">That\\'s why hitting our fundraising goals \\\\u2013 and having the resources to defeat the GOP \\\\u2013 is so critical. But unfortunately, I just got word from my team that we\\'re still $5,274 short of our end-of-month goal with just 3 hours left until the midnight deadline.</span></span><b>&nbsp;<br>\\\\r\\\\n\\\\t\\\\t\\\\t\\\\t\\\\t\\\\t\\\\t\\\\t\\\\t<br>\\\\r\\\\n\\\\t\\\\t\\\\t\\\\t\\\\t\\\\t\\\\t\\\\t\\\\t<a href=\\\\\"https://click.ngpvan.com/k/78169063/452628772/-1853236879?amounts=5,25,50,100,250&refcode=jtk3392-fr-nd&nvep=ew0KICAiVGVuYW50VXJpIjogIm5ncHZhbjovL3Zhbi9OR1AvTkdQNDAvMS84ODI5OCIsDQogICJEaXN0cmlidXRpb25VbmlxdWVJZCI6ICI4ZDg5YjljYy1hN2MwLWVlMTEtYjY2MC0wMDIyNDgyMjMxOTciLA0KICAiRW1haWxBZGRyZXNzIjogIkplbmdhYnVpbGluZzkwQGdtYWlsLmNvbSINCn0%3D&hmac=GB8eUy6qw0_c1eOJUU7vzS2-ZqWAZhsJtwaVvenBxmQ=\\\\\">So please, this is the last call: Will you chip in $5 \\\\u2013 even $25 \\\\u2013 right now to keep Nevada and the Senate blue?</a></b></p>\\\\r\\\\n\\\\t\\\\t\\\\t\\\\t\\\\t\\\\t\\\\t\\\\t\\\\t</td>\\\\r\\\\n\\\\t\\\\t\\\\t\\\\t\\\\t\\\\t\\\\t\\\\t</tr>\\\\r\\\\n\\\\t\\\\t\\\\t\\\\t\\\\t\\\\t\\\\t\\\\t<tr>\\\\r\\\\n\\\\t\\\\t\\\\t\\\\t\\\\t\\\\t\\\\t\\\\t\\\\t<td bgcolor=\\\\\"#ffffff\\\\\" style=\\\\\"padding-top:10px;padding-right:5px;padding-bottom:10px;padding-left:5px;\\\\\">\\\\r\\\\n\\\\t\\\\t\\\\t\\\\t\\\\t\\\\t\\\\t\\\\t\\\\t<p style=\\\\\"margin: 0;font-size:18px;text-align:left;\\\\\">Thank you,</p>\\\\r\\\\n\\\\t\\\\t\\\\t\\\\t\\\\t\\\\t\\\\t\\\\t\\\\t</td>\\\\r\\\\n\\\\t\\\\t\\\\t\\\\t\\\\t\\\\t\\\\t\\\\t</tr>\\\\r\\\\n\\\\t\\\\t\\\\t\\\\t\\\\t\\\\t\\\\t\\\\t<tr>\\\\r\\\\n\\\\t\\\\t\\\\t\\\\t\\\\t\\\\t\\\\t\\\\t\\\\t<td bgcolor=\\\\\"#ffffff\\\\\" style=\\\\\"padding-top:10px;padding-right:5px;padding-bottom:150px;padding-left:5px;\\\\\">\\\\r\\\\n\\\\t\\\\t\\\\t\\\\t\\\\t\\\\t\\\\t\\\\t\\\\t<p style=\\\\\"margin: 0;font-family:\\'Times New Roman\\',serif;font-size:18px;text-align:left;\\\\\"><font color=\\\\\"#9900ff\\\\\"><b><i>Jacky</i></b></font></p>\\\\r\\\\n\\\\t\\\\t\\\\t\\\\t\\\\t\\\\t\\\\t\\\\t\\\\t</td>\\\\r\\\\n\\\\t\\\\t\\\\t\\\\t\\\\t\\\\t\\\\t\\\\t</tr>\\\\r\\\\n\\\\t\\\\t\\\\t\\\\t\\\\t\\\\t\\\\t</tbody>\\\\r\\\\n\\\\t\\\\t\\\\t\\\\t\\\\t\\\\t</table>\\\\r\\\\n\\\\t\\\\t\\\\t\\\\t\\\\t\\\\t</td>\\\\r\\\\n\\\\t\\\\t\\\\t\\\\t\\\\t\\\\t<td width=\\\\\"20\\\\\"><img alt=\\\\\"\\\\\" border=\\\\\"0\\\\\" height=\\\\\"1\\\\\" src=\\\\\"https://als-totem.s3.amazonaws.com/core/spacer.gif\\\\\" style=\\\\\"display: block;\\\\\" width=\\\\\"20\\\\\"></td>\\\\r\\\\n\\\\t\\\\t\\\\t\\\\t\\\\t</tr>\\\\r\\\\n\\\\t\\\\t\\\\t\\\\t\\\\t<tr>\\\\r\\\\n\\\\t\\\\t\\\\t\\\\t\\\\t\\\\t<td width=\\\\\"20\\\\\"><img alt=\\\\\"\\\\\" border=\\\\\"0\\\\\" height=\\\\\"1\\\\\" src=\\\\\"https://als-totem.s3.amazonaws.com/core/spacer.gif\\\\\" style=\\\\\"display: block;\\\\\" width=\\\\\"20\\\\\"></td>\\\\r\\\\n\\\\t\\\\t\\\\t\\\\t\\\\t\\\\t<td>\\\\r\\\\n\\\\t\\\\t\\\\t\\\\t\\\\t\\\\t<center>\\\\r\\\\n\\\\t\\\\t\\\\t\\\\t\\\\t\\\\t<div id=\\\\\"footer\\\\\" style=\\\\\"width: 100%; font-family: sans-serif; font-size: 12px; margin: 0 auto; padding-top: 2em; color: #444444;\\\\\">\\\\r\\\\n\\\\t\\\\t\\\\t\\\\t\\\\t\\\\t<div style=\\\\\"width: 100%; font-family: Arial, sans-serif; font-size: 12px; color:#222222;margin-top: 1em;\\\\\">\\\\r\\\\n\\\\t\\\\t\\\\t\\\\t\\\\t\\\\t<hr></div>\\\\r\\\\n\\\\r\\\\n\\\\t\\\\t\\\\t\\\\t\\\\t\\\\t<div id=\\\\\"unsub\\\\\" style=\\\\\"margin: 0 1em 1em auto;\\\\\">\\\\r\\\\n\\\\t\\\\t\\\\t\\\\t\\\\t\\\\t<p style=\\\\\"margin: 1em; text-align: center;\\\\\">&nbsp;</p>\\\\r\\\\n\\\\t\\\\t\\\\t\\\\t\\\\t\\\\t&nbsp;\\\\r\\\\n\\\\r\\\\n\\\\t\\\\t\\\\t\\\\t\\\\t\\\\t<center>\\\\r\\\\n\\\\t\\\\t\\\\t\\\\t\\\\t\\\\t<p style=\\\\\"margin: 0;\\\\\">This email was sent to Jengabuiling90@gmail.com.<br>\\\\r\\\\n\\\\t\\\\t\\\\t\\\\t\\\\t\\\\t<a href=\\\\\"https://act.rosenfornevada.com/p/lu4OBSNc3UKuSuNlvLb3Zg2?unsubscribedata=aY8wPzFtQiGX%2FddI4ofDRERu7c4uxY%2FsSaJz2eo93JtYnwSPOJij1vE8SSNO5TUxSDEVsrlS0oROoPAH2mnGNWBifIA2IxXCI6QOZ4o5yVlVlx3f75J%2BEo0dEO6yDL0Ow70wTa%2Bwg1dmYvJOFHV31bp6B0e1ywmcFMUbNFzoYhESsETurvTOo6cyrVvg1GjXdPLBfgcpvLUkwHnFDzTT9dNhjwhpxvirbQ9WRpnqn7XhPWlMmhFL2cR%2Fai%2BU%2FAfCfVTPnVBQ52l61VX7y3OZINb2BnxZEalpH1c7tl29QXZztL0PFSTXR9BeFRDTq3tRc0WBE%2FqAaLLibaftZ5MFWolSvCJQzpVjobO22MEBt80%2FHkI9u%2BX2GqWkkVd%2FuggPTc2vIBc%2F1cG3yMXS1h0hcbqjwrXTb40I0AK7Mx%2BQze8Dpzadsn5OSn72f1n%2FdHg4\\\\\" id=\\\\\"unsubscribe\\\\\">To unsubscribe from this email list, please click here.</a></p>\\\\r\\\\n\\\\r\\\\n\\\\t\\\\t\\\\t\\\\t\\\\t\\\\t<p style=\\\\\"margin: 1em auto; text-align: center;\\\\\">Contributions to Rosen for Nevada are not tax deductible.</p>\\\\r\\\\n\\\\t\\\\t\\\\t\\\\t\\\\t\\\\t</center>\\\\r\\\\n\\\\r\\\\n\\\\t\\\\t\\\\t\\\\t\\\\t\\\\t<center><!--[if mso]><center><table><tr><td width=\\\\\"380\\\\\" style=\\\\\"font-family: sans-serif;\\\\\"><![endif]-->\\\\r\\\\n\\\\t\\\\t\\\\t\\\\t\\\\t\\\\t<div style=\\\\\"border: 1px solid black; margin: 10px auto 40px; padding: 8px; text-align: center; max-width: 380px; font-size: 12px;\\\\\">Paid for by Rosen for Nevada</div>\\\\r\\\\n\\\\r\\\\n\\\\t\\\\t\\\\t\\\\t\\\\t\\\\t<p style=\\\\\"margin: 1em;text-align: center;\\\\\">Rosen for Nevada<br>\\\\r\\\\n\\\\t\\\\t\\\\t\\\\t\\\\t\\\\tP.O. Box 46110<br>\\\\r\\\\n\\\\t\\\\t\\\\t\\\\t\\\\t\\\\tLAS VEGAS, NV 89114<br>\\\\r\\\\n\\\\t\\\\t\\\\t\\\\t\\\\t\\\\tUnited States</p>\\\\r\\\\n\\\\t\\\\t\\\\t\\\\t\\\\t\\\\t<!--[if mso]></td></tr></table></center><![endif]--></center>\\\\r\\\\n\\\\t\\\\t\\\\t\\\\t\\\\t\\\\t</div>\\\\r\\\\n\\\\t\\\\t\\\\t\\\\t\\\\t\\\\t</div>\\\\r\\\\n\\\\t\\\\t\\\\t\\\\t\\\\t\\\\t<br>\\\\r\\\\n\\\\t\\\\t\\\\t\\\\t\\\\t\\\\t<br>\\\\r\\\\n\\\\t\\\\t\\\\t\\\\t\\\\t\\\\t<!--[if mso]>\\\\r\\\\n\\\\t</td>\\\\r\\\\n  </tr>\\\\r\\\\n  </table>\\\\r\\\\n  <![endif]--><!--[if mso]>\\\\r\\\\n  </td>\\\\r\\\\n  </tr>\\\\r\\\\n  </table>\\\\r\\\\n  <![endif]--></center>\\\\r\\\\n\\\\t\\\\t\\\\t\\\\t\\\\t\\\\t</td>\\\\r\\\\n\\\\t\\\\t\\\\t\\\\t\\\\t\\\\t<td width=\\\\\"20\\\\\"><img alt=\\\\\"\\\\\" border=\\\\\"0\\\\\" height=\\\\\"1\\\\\" src=\\\\\"https://als-totem.s3.amazonaws.com/core/spacer.gif\\\\\" style=\\\\\"display: block;\\\\\" width=\\\\\"20\\\\\"></td>\\\\r\\\\n\\\\t\\\\t\\\\t\\\\t\\\\t</tr>\\\\r\\\\n\\\\t\\\\t\\\\t\\\\t</tbody>\\\\r\\\\n\\\\t\\\\t\\\\t</table>\\\\r\\\\n\\\\t\\\\t\\\\t<!--[if (gte mso 9)|(IE)]></td></tr></table><![endif]--></td>\\\\r\\\\n\\\\t\\\\t</tr>\\\\r\\\\n\\\\t</tbody>\\\\r\\\\n</table>\\\\r\\\\n<img src=\\\\\"https://click.ngpvan.com/j/452628773?nvep=ew0KICAiVGVuYW50VXJpIjogIm5ncHZhbjovL3Zhbi9OR1AvTkdQNDAvMS84ODI5OCIsDQogICJEaXN0cmlidXRpb25VbmlxdWVJZCI6ICI4ZDg5YjljYy1hN2MwLWVlMTEtYjY2MC0wMDIyNDgyMjMxOTciLA0KICAiRW1haWxBZGRyZXNzIjogIkplbmdhYnVpbGluZzkwQGdtYWlsLmNvbSINCn0%3D&hmac=GB8eUy6qw0_c1eOJUU7vzS2-ZqWAZhsJtwaVvenBxmQ=\\\\\" /></body>\\\\r\\\\n</html>\"\\n    }\\n]')"
      ]
     },
     "execution_count": 4,
     "metadata": {},
     "output_type": "execute_result"
    }
   ],
   "source": [
    "# Re-import necessary libraries and redefine the function after code execution state was reset\n",
    "import mailbox\n",
    "import json\n",
    "\n",
    "# Redefine function to include email content (both plain text and HTML if available)\n",
    "def extract_email_content_and_details(msg):\n",
    "    details = {\n",
    "        \"from\": msg.get('From', ''),\n",
    "        \"delivered_to\": msg.get('Delivered-To', ''),\n",
    "        \"subject\": msg.get('Subject', ''),\n",
    "        \"date\": msg.get('Date', ''),\n",
    "        \"labels\": msg.get('X-Gmail-Labels', '')\n",
    "    }\n",
    "    \n",
    "    details[\"content_plain\"] = \"\"\n",
    "    details[\"content_html\"] = \"\"\n",
    "    \n",
    "    if msg.is_multipart():\n",
    "        for part in msg.walk():\n",
    "            content_type = part.get_content_type()\n",
    "            content_disposition = part.get(\"Content-Disposition\")\n",
    "            \n",
    "            if content_disposition:  # Ignore attachments/html images\n",
    "                continue\n",
    "            if content_type == \"text/plain\":\n",
    "                details[\"content_plain\"] = part.get_payload(decode=True).decode('utf-8', errors='ignore')\n",
    "            elif content_type == \"text/html\":\n",
    "                details[\"content_html\"] = part.get_payload(decode=True).decode('utf-8', errors='ignore')\n",
    "    else:\n",
    "        content_type = msg.get_content_type()\n",
    "        if content_type == \"text/plain\":\n",
    "            details[\"content_plain\"] = msg.get_payload(decode=True).decode('utf-8', errors='ignore')\n",
    "        elif content_type == \"text/html\":\n",
    "            details[\"content_html\"] = msg.get_payload(decode=True).decode('utf-8', errors='ignore')\n",
    "    \n",
    "    return details\n",
    "\n",
    "# Load the mbox file again\n",
    "file_path = 'All mail Including Spam and Trash.mbox'\n",
    "mbox = mailbox.mbox(file_path)\n",
    "\n",
    "# Process a limited number of emails to demonstrate inclusion of content\n",
    "limited_emails = [extract_email_content_and_details(msg) for msg in list(mbox)[:5]]\n",
    "\n",
    "# Convert to JSON format\n",
    "limited_emails_json = json.dumps(limited_emails, indent=4)\n",
    "\n",
    "# Save the JSON data to a file (limited set)\n",
    "limited_json_file_path = 'limited_emails_extracted.json'\n",
    "with open(limited_json_file_path, 'w', encoding='utf-8') as json_file:\n",
    "    json_file.write(limited_emails_json)\n",
    "\n",
    "limited_json_file_path, json.dumps(limited_emails[:1], indent=4)  # Preview the first email with content in JSON format\n"
   ]
  }
 ],
 "metadata": {
  "kernelspec": {
   "display_name": "base",
   "language": "python",
   "name": "python3"
  },
  "language_info": {
   "codemirror_mode": {
    "name": "ipython",
    "version": 3
   },
   "file_extension": ".py",
   "mimetype": "text/x-python",
   "name": "python",
   "nbconvert_exporter": "python",
   "pygments_lexer": "ipython3",
   "version": "3.11.5"
  }
 },
 "nbformat": 4,
 "nbformat_minor": 2
}
